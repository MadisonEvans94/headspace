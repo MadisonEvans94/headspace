{
 "cells": [
  {
   "cell_type": "markdown",
   "metadata": {},
   "source": [
    "## Step 1: Installing Necessary Libraries\n",
    "First, you'll need to install UMAP and Matplotlib. You can do this directly in your Jupyter notebook using the following command:"
   ]
  },
  {
   "cell_type": "code",
   "execution_count": null,
   "metadata": {},
   "outputs": [],
   "source": [
    "# %pip install umap-learn matplotlib\n"
   ]
  },
  {
   "cell_type": "markdown",
   "metadata": {},
   "source": [
    "## Step 2: Importing Libraries\n",
    "Once installed, you can import the necessary libraries in your notebook:"
   ]
  },
  {
   "cell_type": "code",
   "execution_count": 43,
   "metadata": {},
   "outputs": [],
   "source": [
    "import umap\n",
    "import matplotlib.pyplot as plt\n",
    "import numpy as np\n",
    "from custom_umap import CustomUMAP\n",
    "import torch\n",
    "from transformers import AutoModel, AutoTokenizer"
   ]
  },
  {
   "cell_type": "code",
   "execution_count": 44,
   "metadata": {},
   "outputs": [],
   "source": [
    "umap = CustomUMAP()\n"
   ]
  },
  {
   "cell_type": "code",
   "execution_count": null,
   "metadata": {},
   "outputs": [],
   "source": [
    "\n",
    "model_name = \"bert-base-uncased\"\n",
    "tokenizer = AutoTokenizer.from_pretrained(model_name)\n",
    "model = AutoModel.from_pretrained(model_name)\n",
    "sample_text = [\n",
    "    \"Advancements in artificial intelligence are transforming the tech industry.\",\n",
    "    \"The latest smartphone models feature incredibly advanced camera systems.\",\n",
    "    \"Cybersecurity is a growing concern with the rise of digital banking.\",\n",
    "    \"Virtual reality offers immersive experiences unlike anything in traditional gaming.\",\n",
    "    \"Self-driving cars could revolutionize how we commute in the future.\",\n",
    "    \"Blockchain technology is not just for cryptocurrencies but also for securing data.\",\n",
    "    \"Tech startups are increasingly focusing on sustainable energy solutions.\",\n",
    "    \"The Amazon rainforest is home to a diverse range of wildlife and plant species.\",\n",
    "    \"Climate change is impacting global weather patterns and ecosystems.\",\n",
    "    \"Hiking in the mountains is a great way to connect with nature.\",\n",
    "    \"Conservation efforts are crucial for protecting endangered species.\",\n",
    "    \"The beauty of the ocean is unmatched, but its health is in danger.\",\n",
    "    \"Urban gardening is becoming popular in cities for sustainability.\",\n",
    "    \"Observing the stars provides insights into the vastness of the universe.\",\n",
    "    \"Restoring natural habitats helps maintain ecological balance.\",\n",
    "    \"Cooking at home can be both fun and therapeutic.\",\n",
    "    \"Exploring different cuisines is a journey into various cultures.\",\n",
    "    \"Baking requires precision and patience, but the results are rewarding.\",\n",
    "    \"Fresh ingredients make a significant difference in the flavor of dishes.\",\n",
    "    \"The art of plating food is essential in fine dining experiences.\", \n",
    "    \"Outerspace is pretty scary when you think about all of the stars\", \n",
    "    \"The solar system has 8 planets\", \n",
    "    \"Asteroids are very common in our galaxy\", \n",
    "    \"I wonder if we will ever visit the moon again\"\n",
    "   \n",
    "]\n",
    "\n",
    "inputs = [tokenizer(text, return_tensors=\"pt\",\n",
    "                    truncation=True, max_length=512) for text in sample_text]\n",
    "outputs = []\n",
    "for i in inputs:\n",
    "    with torch.no_grad():\n",
    "        outputs.append(model(**i))\n",
    "\n",
    "# Assuming you want the last hidden states (token-level embeddings)\n",
    "embeddings = [output[0] for output in outputs]\n"
   ]
  },
  {
   "cell_type": "code",
   "execution_count": null,
   "metadata": {},
   "outputs": [],
   "source": [
    "\n",
    "# Convert the list of tensors to a NumPy array\n",
    "embeddings_np = umap.to_numpy(embeddings)\n",
    "\n",
    "\n"
   ]
  },
  {
   "cell_type": "code",
   "execution_count": null,
   "metadata": {},
   "outputs": [],
   "source": [
    "# Initialize the UMAP object for 2D (or 3D) reduction\n",
    "reducer = umap.UMAP(n_components=2, random_state=42, n_neighbors=5)\n",
    "\n",
    "# Fit the model to your embeddings and transform the data\n",
    "reduced_embeddings = reducer.fit_transform(sentence_embeddings_np)"
   ]
  },
  {
   "cell_type": "code",
   "execution_count": null,
   "metadata": {},
   "outputs": [],
   "source": [
    "# 2D Visualization\n",
    "plt.scatter(reduced_embeddings[:, 0], reduced_embeddings[:, 1])\n",
    "\n",
    "# Adding labels and title for clarity\n",
    "plt.xlabel('UMAP Dimension 1')\n",
    "plt.ylabel('UMAP Dimension 2')\n",
    "plt.title('2D UMAP Projection of BERT Sentence Embeddings')\n",
    "\n",
    "# Show the plot\n",
    "plt.show()"
   ]
  }
 ],
 "metadata": {
  "kernelspec": {
   "display_name": "venv",
   "language": "python",
   "name": "python3"
  },
  "language_info": {
   "codemirror_mode": {
    "name": "ipython",
    "version": 3
   },
   "file_extension": ".py",
   "mimetype": "text/x-python",
   "name": "python",
   "nbconvert_exporter": "python",
   "pygments_lexer": "ipython3",
   "version": "3.11.4"
  }
 },
 "nbformat": 4,
 "nbformat_minor": 2
}
