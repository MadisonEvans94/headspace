{
 "cells": [
  {
   "cell_type": "markdown",
   "metadata": {},
   "source": [
    "## Step 1: Installing Necessary Libraries\n",
    "First, you'll need to install UMAP and Matplotlib. You can do this directly in your Jupyter notebook using the following command:"
   ]
  },
  {
   "cell_type": "code",
   "execution_count": 1,
   "metadata": {},
   "outputs": [
    {
     "name": "stdout",
     "output_type": "stream",
     "text": [
      "Requirement already satisfied: umap-learn in ./venv/lib/python3.11/site-packages (0.5.5)\n",
      "Requirement already satisfied: matplotlib in ./venv/lib/python3.11/site-packages (3.8.2)\n",
      "Requirement already satisfied: numpy>=1.17 in ./venv/lib/python3.11/site-packages (from umap-learn) (1.26.2)\n",
      "Requirement already satisfied: scipy>=1.3.1 in ./venv/lib/python3.11/site-packages (from umap-learn) (1.11.4)\n",
      "Requirement already satisfied: scikit-learn>=0.22 in ./venv/lib/python3.11/site-packages (from umap-learn) (1.3.2)\n",
      "Requirement already satisfied: numba>=0.51.2 in ./venv/lib/python3.11/site-packages (from umap-learn) (0.58.1)\n",
      "Requirement already satisfied: pynndescent>=0.5 in ./venv/lib/python3.11/site-packages (from umap-learn) (0.5.11)\n",
      "Requirement already satisfied: tqdm in ./venv/lib/python3.11/site-packages (from umap-learn) (4.66.1)\n",
      "Requirement already satisfied: contourpy>=1.0.1 in ./venv/lib/python3.11/site-packages (from matplotlib) (1.2.0)\n",
      "Requirement already satisfied: cycler>=0.10 in ./venv/lib/python3.11/site-packages (from matplotlib) (0.12.1)\n",
      "Requirement already satisfied: fonttools>=4.22.0 in ./venv/lib/python3.11/site-packages (from matplotlib) (4.47.0)\n",
      "Requirement already satisfied: kiwisolver>=1.3.1 in ./venv/lib/python3.11/site-packages (from matplotlib) (1.4.5)\n",
      "Requirement already satisfied: packaging>=20.0 in ./venv/lib/python3.11/site-packages (from matplotlib) (23.2)\n",
      "Requirement already satisfied: pillow>=8 in ./venv/lib/python3.11/site-packages (from matplotlib) (10.1.0)\n",
      "Requirement already satisfied: pyparsing>=2.3.1 in ./venv/lib/python3.11/site-packages (from matplotlib) (3.1.1)\n",
      "Requirement already satisfied: python-dateutil>=2.7 in ./venv/lib/python3.11/site-packages (from matplotlib) (2.8.2)\n",
      "Requirement already satisfied: llvmlite<0.42,>=0.41.0dev0 in ./venv/lib/python3.11/site-packages (from numba>=0.51.2->umap-learn) (0.41.1)\n",
      "Requirement already satisfied: joblib>=0.11 in ./venv/lib/python3.11/site-packages (from pynndescent>=0.5->umap-learn) (1.3.2)\n",
      "Requirement already satisfied: six>=1.5 in ./venv/lib/python3.11/site-packages (from python-dateutil>=2.7->matplotlib) (1.16.0)\n",
      "Requirement already satisfied: threadpoolctl>=2.0.0 in ./venv/lib/python3.11/site-packages (from scikit-learn>=0.22->umap-learn) (3.2.0)\n",
      "\n",
      "\u001b[1m[\u001b[0m\u001b[34;49mnotice\u001b[0m\u001b[1;39;49m]\u001b[0m\u001b[39;49m A new release of pip is available: \u001b[0m\u001b[31;49m23.1.2\u001b[0m\u001b[39;49m -> \u001b[0m\u001b[32;49m23.3.2\u001b[0m\n",
      "\u001b[1m[\u001b[0m\u001b[34;49mnotice\u001b[0m\u001b[1;39;49m]\u001b[0m\u001b[39;49m To update, run: \u001b[0m\u001b[32;49mpip install --upgrade pip\u001b[0m\n",
      "Note: you may need to restart the kernel to use updated packages.\n"
     ]
    }
   ],
   "source": [
    "%pip install umap-learn matplotlib\n"
   ]
  },
  {
   "cell_type": "markdown",
   "metadata": {},
   "source": [
    "## Step 2: Importing Libraries\n",
    "Once installed, you can import the necessary libraries in your notebook:"
   ]
  },
  {
   "cell_type": "code",
   "execution_count": 2,
   "metadata": {},
   "outputs": [
    {
     "name": "stderr",
     "output_type": "stream",
     "text": [
      "/Users/mcevans/WebDev/PROJECTS/headspace/venv/lib/python3.11/site-packages/tqdm/auto.py:21: TqdmWarning: IProgress not found. Please update jupyter and ipywidgets. See https://ipywidgets.readthedocs.io/en/stable/user_install.html\n",
      "  from .autonotebook import tqdm as notebook_tqdm\n"
     ]
    }
   ],
   "source": [
    "import umap\n",
    "import matplotlib.pyplot as plt\n",
    "import numpy as np"
   ]
  },
  {
   "cell_type": "markdown",
   "metadata": {},
   "source": [
    "## Step 3: Creating Dummy Embedding Vectors\n",
    "Let's create some dummy data. Since UMAP is typically used for reducing higher-dimensional data, we'll create a list of vectors where each vector is of length 5. We'll use NumPy for generating these vectors:"
   ]
  },
  {
   "cell_type": "code",
   "execution_count": 3,
   "metadata": {},
   "outputs": [],
   "source": [
    "import numpy as np\n",
    "\n",
    "# Define the number of points and dimensions\n",
    "num_points = 100\n",
    "vector_length = 5\n",
    "\n",
    "# Number of clusters\n",
    "num_clusters = 3\n",
    "\n",
    "# Points per cluster\n",
    "points_per_cluster = num_points // num_clusters\n",
    "\n",
    "# Initialize an empty array for the data\n",
    "dummy_data = np.empty((0, vector_length))\n",
    "\n",
    "# Define different means for each cluster\n",
    "means = [[0.2, 0.5, 0.8, 0.1, 0.3],  # Mean for cluster 1\n",
    "         [0.7, 0.6, 0.1, 0.8, 0.9],  # Mean for cluster 2\n",
    "         [0.4, 0.2, 0.9, 0.5, 0.7]]  # Mean for cluster 3\n",
    "\n",
    "# Generate data for each cluster\n",
    "for i in range(num_clusters):\n",
    "    # Generate random data for this cluster around its mean\n",
    "    cluster_data = np.random.randn(\n",
    "        points_per_cluster, vector_length) * 0.1 + means[i]\n",
    "\n",
    "    # Concatenate the cluster data to the main dataset\n",
    "    dummy_data = np.vstack((dummy_data, cluster_data))\n",
    "\n",
    "# Now, 'dummy_data' contains 100 points, each of 5 dimensions, with 3 distinct clusters"
   ]
  },
  {
   "cell_type": "markdown",
   "metadata": {},
   "source": [
    "## Step 4: Applying UMAP for Dimensionality Reduction\n",
    "UMAP will be used to reduce the 5-dimensional vectors into 2 dimensions for visualization purposes. Here's how you can do this:"
   ]
  },
  {
   "cell_type": "code",
   "execution_count": 4,
   "metadata": {},
   "outputs": [
    {
     "name": "stderr",
     "output_type": "stream",
     "text": [
      "/Users/mcevans/WebDev/PROJECTS/headspace/venv/lib/python3.11/site-packages/umap/umap_.py:1943: UserWarning: n_jobs value -1 overridden to 1 by setting random_state. Use no seed for parallelism.\n",
      "  warn(f\"n_jobs value {self.n_jobs} overridden to 1 by setting random_state. Use no seed for parallelism.\")\n",
      "OMP: Info #276: omp_set_nested routine deprecated, please use omp_set_max_active_levels instead.\n"
     ]
    }
   ],
   "source": [
    "# Initialize the UMAP object\n",
    "reducer = umap.UMAP(n_components=2,random_state=42)\n",
    "\n",
    "# Fit the model to your data and transform the data\n",
    "# This reduces the dimensionality from 5 to 2\n",
    "embedding = reducer.fit_transform(dummy_data)\n",
    "\n",
    "# The 'embedding' variable now holds the 2D representation of your data"
   ]
  },
  {
   "cell_type": "markdown",
   "metadata": {},
   "source": [
    "## Step 5: Visualizing the Data with Matplotlib\n",
    "Now, let's visualize the 2D representation created by UMAP:"
   ]
  },
  {
   "cell_type": "code",
   "execution_count": 5,
   "metadata": {},
   "outputs": [
    {
     "data": {
      "image/png": "[encoded data removed]",
      "text/plain": [
       "<Figure size 640x480 with 1 Axes>"
      ]
     },
     "metadata": {},
     "output_type": "display_data"
    }
   ],
   "source": [
    "# Create a scatter plot of the 2D embedding\n",
    "plt.scatter(embedding[:, 0], embedding[:, 1])\n",
    "\n",
    "# Optionally, add labels and a title\n",
    "plt.xlabel('UMAP Dimension 1')\n",
    "plt.ylabel('UMAP Dimension 2')\n",
    "plt.title('2D UMAP Projection of Dummy Data')\n",
    "\n",
    "# Display the plot\n",
    "plt.show()"
   ]
  },
  {
   "cell_type": "code",
   "execution_count": 6,
   "metadata": {},
   "outputs": [
    {
     "name": "stdout",
     "output_type": "stream",
     "text": [
      "Requirement already satisfied: torch in ./venv/lib/python3.11/site-packages (2.1.2)\n",
      "Requirement already satisfied: transformers in ./venv/lib/python3.11/site-packages (4.36.2)\n",
      "Requirement already satisfied: filelock in ./venv/lib/python3.11/site-packages (from torch) (3.13.1)\n",
      "Requirement already satisfied: typing-extensions in ./venv/lib/python3.11/site-packages (from torch) (4.9.0)\n",
      "Requirement already satisfied: sympy in ./venv/lib/python3.11/site-packages (from torch) (1.12)\n",
      "Requirement already satisfied: networkx in ./venv/lib/python3.11/site-packages (from torch) (3.2.1)\n",
      "Requirement already satisfied: jinja2 in ./venv/lib/python3.11/site-packages (from torch) (3.1.2)\n",
      "Requirement already satisfied: fsspec in ./venv/lib/python3.11/site-packages (from torch) (2023.12.2)\n",
      "Requirement already satisfied: huggingface-hub<1.0,>=0.19.3 in ./venv/lib/python3.11/site-packages (from transformers) (0.19.4)\n",
      "Requirement already satisfied: numpy>=1.17 in ./venv/lib/python3.11/site-packages (from transformers) (1.26.2)\n",
      "Requirement already satisfied: packaging>=20.0 in ./venv/lib/python3.11/site-packages (from transformers) (23.2)\n",
      "Requirement already satisfied: pyyaml>=5.1 in ./venv/lib/python3.11/site-packages (from transformers) (6.0.1)\n",
      "Requirement already satisfied: regex!=2019.12.17 in ./venv/lib/python3.11/site-packages (from transformers) (2023.10.3)\n",
      "Requirement already satisfied: requests in ./venv/lib/python3.11/site-packages (from transformers) (2.31.0)\n",
      "Requirement already satisfied: tokenizers<0.19,>=0.14 in ./venv/lib/python3.11/site-packages (from transformers) (0.15.0)\n",
      "Requirement already satisfied: safetensors>=0.3.1 in ./venv/lib/python3.11/site-packages (from transformers) (0.4.1)\n",
      "Requirement already satisfied: tqdm>=4.27 in ./venv/lib/python3.11/site-packages (from transformers) (4.66.1)\n",
      "Requirement already satisfied: MarkupSafe>=2.0 in ./venv/lib/python3.11/site-packages (from jinja2->torch) (2.1.3)\n",
      "Requirement already satisfied: charset-normalizer<4,>=2 in ./venv/lib/python3.11/site-packages (from requests->transformers) (3.3.2)\n",
      "Requirement already satisfied: idna<4,>=2.5 in ./venv/lib/python3.11/site-packages (from requests->transformers) (3.6)\n",
      "Requirement already satisfied: urllib3<3,>=1.21.1 in ./venv/lib/python3.11/site-packages (from requests->transformers) (2.1.0)\n",
      "Requirement already satisfied: certifi>=2017.4.17 in ./venv/lib/python3.11/site-packages (from requests->transformers) (2023.11.17)\n",
      "Requirement already satisfied: mpmath>=0.19 in ./venv/lib/python3.11/site-packages (from sympy->torch) (1.3.0)\n",
      "\n",
      "\u001b[1m[\u001b[0m\u001b[34;49mnotice\u001b[0m\u001b[1;39;49m]\u001b[0m\u001b[39;49m A new release of pip is available: \u001b[0m\u001b[31;49m23.1.2\u001b[0m\u001b[39;49m -> \u001b[0m\u001b[32;49m23.3.2\u001b[0m\n",
      "\u001b[1m[\u001b[0m\u001b[34;49mnotice\u001b[0m\u001b[1;39;49m]\u001b[0m\u001b[39;49m To update, run: \u001b[0m\u001b[32;49mpip install --upgrade pip\u001b[0m\n",
      "Note: you may need to restart the kernel to use updated packages.\n"
     ]
    }
   ],
   "source": [
    "%pip install torch transformers"
   ]
  },
  {
   "cell_type": "code",
   "execution_count": 11,
   "metadata": {},
   "outputs": [
    {
     "data": {
      "text/plain": [
       "tensor([[[ 0.3864,  0.2770, -0.3731,  ..., -0.1788,  0.0870,  0.2748],\n",
       "         [ 0.0174,  0.3331, -0.0200,  ..., -0.2398,  0.5042,  0.1241],\n",
       "         [ 0.6898,  0.1359, -0.1013,  ..., -0.3224,  0.2585, -0.0607],\n",
       "         ...,\n",
       "         [ 0.5960,  0.5854,  0.3574,  ..., -0.4544,  0.0283, -0.1506],\n",
       "         [ 0.5079,  0.6034, -0.9316,  ..., -0.1446,  0.4718, -0.4244],\n",
       "         [ 0.6415,  0.0545, -0.4683,  ...,  0.0541, -0.4921, -0.1414]]])"
      ]
     },
     "execution_count": 11,
     "metadata": {},
     "output_type": "execute_result"
    }
   ],
   "source": [
    "import torch\n",
    "from transformers import AutoModel, AutoTokenizer\n",
    "model_name = \"bert-base-uncased\"\n",
    "tokenizer = AutoTokenizer.from_pretrained(model_name)\n",
    "model = AutoModel.from_pretrained(model_name)\n",
    "sample_text = [\n",
    "    \"Advancements in artificial intelligence are transforming the tech industry.\",\n",
    "    \"The latest smartphone models feature incredibly advanced camera systems.\",\n",
    "    \"Cybersecurity is a growing concern with the rise of digital banking.\",\n",
    "    \"Virtual reality offers immersive experiences unlike anything in traditional gaming.\",\n",
    "    \"Self-driving cars could revolutionize how we commute in the future.\",\n",
    "    \"Blockchain technology is not just for cryptocurrencies but also for securing data.\",\n",
    "    \"Tech startups are increasingly focusing on sustainable energy solutions.\",\n",
    "    \"The Amazon rainforest is home to a diverse range of wildlife and plant species.\",\n",
    "    \"Climate change is impacting global weather patterns and ecosystems.\",\n",
    "    \"Hiking in the mountains is a great way to connect with nature.\",\n",
    "    \"Conservation efforts are crucial for protecting endangered species.\",\n",
    "    \"The beauty of the ocean is unmatched, but its health is in danger.\",\n",
    "    \"Urban gardening is becoming popular in cities for sustainability.\",\n",
    "    \"Observing the stars provides insights into the vastness of the universe.\",\n",
    "    \"Restoring natural habitats helps maintain ecological balance.\",\n",
    "    \"Cooking at home can be both fun and therapeutic.\",\n",
    "    \"Exploring different cuisines is a journey into various cultures.\",\n",
    "    \"Baking requires precision and patience, but the results are rewarding.\",\n",
    "    \"Fresh ingredients make a significant difference in the flavor of dishes.\",\n",
    "    \"The art of plating food is essential in fine dining experiences.\"\n",
    "]\n",
    "\n",
    "inputs = [tokenizer(text, return_tensors=\"pt\",\n",
    "                    truncation=True, max_length=512) for text in sample_text]\n",
    "outputs = []\n",
    "for i in inputs:\n",
    "    with torch.no_grad():\n",
    "        outputs.append(model(**i))\n",
    "\n",
    "# Assuming you want the last hidden states (token-level embeddings)\n",
    "embeddings = [output[0] for output in outputs]\n",
    "\n",
    "# To access embeddings of the first sample\n",
    "embeddings1 = embeddings[0]\n",
    "embeddings[0]"
   ]
  },
  {
   "cell_type": "code",
   "execution_count": 12,
   "metadata": {},
   "outputs": [],
   "source": [
    "# Averaging the token embeddings to get a single vector per sentence\n",
    "sentence_embeddings = [torch.mean(embedding.squeeze(), dim=0)\n",
    "                       for embedding in embeddings]\n",
    "\n",
    "# Convert the list of tensors to a NumPy array\n",
    "sentence_embeddings_np = torch.stack(sentence_embeddings).detach().numpy()"
   ]
  },
  {
   "cell_type": "code",
   "execution_count": 13,
   "metadata": {},
   "outputs": [
    {
     "name": "stderr",
     "output_type": "stream",
     "text": [
      "/Users/mcevans/WebDev/PROJECTS/headspace/venv/lib/python3.11/site-packages/umap/umap_.py:1943: UserWarning: n_jobs value -1 overridden to 1 by setting random_state. Use no seed for parallelism.\n",
      "  warn(f\"n_jobs value {self.n_jobs} overridden to 1 by setting random_state. Use no seed for parallelism.\")\n"
     ]
    }
   ],
   "source": [
    "# Initialize the UMAP object for 2D (or 3D) reduction\n",
    "reducer = umap.UMAP(n_components=2, random_state=42, n_neighbors=3)\n",
    "\n",
    "# Fit the model to your embeddings and transform the data\n",
    "reduced_embeddings = reducer.fit_transform(sentence_embeddings_np)"
   ]
  },
  {
   "cell_type": "code",
   "execution_count": 14,
   "metadata": {},
   "outputs": [
    {
     "data": {
      "image/png": "[encoded data removed]",
      "text/plain": [
       "<Figure size 640x480 with 1 Axes>"
      ]
     },
     "metadata": {},
     "output_type": "display_data"
    }
   ],
   "source": [
    "# 2D Visualization\n",
    "plt.scatter(reduced_embeddings[:, 0], reduced_embeddings[:, 1])\n",
    "\n",
    "# Adding labels and title for clarity\n",
    "plt.xlabel('UMAP Dimension 1')\n",
    "plt.ylabel('UMAP Dimension 2')\n",
    "plt.title('2D UMAP Projection of BERT Sentence Embeddings')\n",
    "\n",
    "# Show the plot\n",
    "plt.show()"
   ]
  }
 ],
 "metadata": {
  "kernelspec": {
   "display_name": "venv",
   "language": "python",
   "name": "python3"
  },
  "language_info": {
   "codemirror_mode": {
    "name": "ipython",
    "version": 3
   },
   "file_extension": ".py",
   "mimetype": "text/x-python",
   "name": "python",
   "nbconvert_exporter": "python",
   "pygments_lexer": "ipython3",
   "version": "3.11.4"
  }
 },
 "nbformat": 4,
 "nbformat_minor": 2
}
